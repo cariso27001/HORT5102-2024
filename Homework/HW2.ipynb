{
 "cells": [
  {
   "cell_type": "markdown",
   "id": "84f63b39-907d-4eda-9e10-fe1d3cfd627b",
   "metadata": {},
   "source": [
    "# Homework 2 \n",
    "\n",
    "### Senescence and decline of biomass\n",
    "\n",
    "Plants, especially annuals, will lose their biomass. Cells, tissues, and organs will senesce, die, and disintegrate eventually, and are no longer part of the living \"biomass\". The models we've looked at so far do not account for this aspect of senescence and death. Think about how the processes and mechanisms associated with senescence and death of plant can be implemented in these models. Some useful information may be found in Table 1."
   ]
  },
  {
   "cell_type": "markdown",
   "id": "3177e0a0-368f-4595-805a-438ee3f0b1ac",
   "metadata": {},
   "source": [
    "<div class=\"alert alert-warning\">\n",
    "If figures/tables are not rendered correctly, make sure your notebook is `trusted` by choosing `Trust Notebook` command found in `View` - `Activate Command Palette` menu. Typing in the first letters (i.e. \"tr\") should give you the command.\n",
    "</div>"
   ]
  },
  {
   "cell_type": "markdown",
   "id": "05b81f1e-9b79-428c-9389-7d58dbfbf124",
   "metadata": {
    "tags": []
   },
   "source": [
    "- Table 1.\n",
    "\n",
    "| Symbol | Value | Units | Description |\n",
    "| :- | :- | :- | :- |\n",
    "| $\\alpha_{\\mathrm{sen}}$ | 100 | $\\mathrm{d}$ | Plant age (days) at which senescence begins |\n",
    "| $k_s$ | 0.01 | $\\mathrm{g}$ $\\mathrm{g^{-1}}$ $\\mathrm{d^{-1}}$ | Senescence rate of degradable biomass over time |\n",
    "| $f_d$ | 1.0 | - | Fraction of degradable biomass |\n",
    "| ... | - | - | ... |"
   ]
  },
  {
   "cell_type": "markdown",
   "id": "96dff844-5304-41a1-85fd-529510bcb4dd",
   "metadata": {},
   "source": [
    "### Homework Questions:\n",
    "1. Please fill in the missing part in the code cell below, and develop an executable model that incorporates plant senescence (decrease in biomass) base on the model we created in Chapter **L03-1. Carbon Model** during the lab session."
   ]
  },
  {
   "cell_type": "code",
   "execution_count": null,
   "id": "faf559cc-faaf-46af-8db8-868c64b1f1c7",
   "metadata": {},
   "outputs": [],
   "source": [
    "@system MyPlantModel(Controller) begin\n",
    "    t(context.clock.time) ~ track(u\"d\")\n",
    "\n",
    "    #= .. =#\n",
    "\n",
    "    r(#= .. =#): RGR => #= .. =# ~ track(u\"g/g/d\")\n",
    "    W0:                initial_biomass => #= .. =# ~ preserve(parameter, u\"g\")\n",
    "    W(r, W, #= .. =#): biomass         => #= .. =# ~ accumulate(init = W0, u\"g\")\n",
    "end"
   ]
  },
  {
   "cell_type": "markdown",
   "id": "d864489a-91e3-4b41-8754-c0fab18aa0bc",
   "metadata": {},
   "source": [
    "2. Please run the simulation for 240 days using `simulate` function and print out the result."
   ]
  },
  {
   "cell_type": "code",
   "execution_count": null,
   "id": "9d270afc-c073-4fef-a853-dddf296af7db",
   "metadata": {},
   "outputs": [],
   "source": []
  },
  {
   "cell_type": "markdown",
   "id": "161ee6f2-39dd-40de-9d3c-5dca83479d4c",
   "metadata": {},
   "source": [
    "3. What are the expected daily changes in biomass, net assimilation rate, net respiration rate, and growth rate when senescence behavior is incorporated? Please print out the graphs in the following code cells, compare these results with those observed in Chapter **L03-1. Carbon Model** of the lab session, and analyze the causes of the differences."
   ]
  },
  {
   "cell_type": "code",
   "execution_count": null,
   "id": "6035720b-0d00-4e08-b672-412ddbfc4459",
   "metadata": {},
   "outputs": [],
   "source": []
  },
  {
   "cell_type": "code",
   "execution_count": null,
   "id": "72835f35-1447-4d97-8782-299e344bef40",
   "metadata": {},
   "outputs": [],
   "source": []
  },
  {
   "cell_type": "code",
   "execution_count": null,
   "id": "3890ac52-518b-4857-8cc2-c171628aa398",
   "metadata": {},
   "outputs": [],
   "source": []
  },
  {
   "cell_type": "code",
   "execution_count": null,
   "id": "a3c711f1-7eeb-4fdf-8f01-26d49718510f",
   "metadata": {},
   "outputs": [],
   "source": []
  },
  {
   "cell_type": "markdown",
   "id": "c10bb324-b3f9-45c5-8355-7a46781afb35",
   "metadata": {},
   "source": [
    "**Please upload your answer to NTU Cool system. Accepted format: .docx .pdf .ipynb .jl .zip .tar.gz**"
   ]
  }
 ],
 "metadata": {
  "kernelspec": {
   "display_name": "Julia 1.10.4",
   "language": "julia",
   "name": "julia-1.10"
  },
  "language_info": {
   "file_extension": ".jl",
   "mimetype": "application/julia",
   "name": "julia",
   "version": "1.10.4"
  }
 },
 "nbformat": 4,
 "nbformat_minor": 5
}
