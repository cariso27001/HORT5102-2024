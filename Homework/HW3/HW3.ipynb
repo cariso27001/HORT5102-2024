{
 "cells": [
  {
   "cell_type": "markdown",
   "metadata": {},
   "source": [
    "# Homework 3"
   ]
  },
  {
   "cell_type": "markdown",
   "metadata": {},
   "source": [
    "### The Cabbage Model\n",
    "\n",
    "In Homework 3, we will explore a simple cabbage model originally created in Python, now adapted to the Cropbox framework. The phenology system is shown below. Although the code might seem complex, don't worry; we will only use the concepts and code we've learned in the course."
   ]
  },
  {
   "cell_type": "markdown",
   "metadata": {},
   "source": [
    "<div class=\"alert alert-warning\">\n",
    "If figures/tables are not rendered correctly, make sure your notebook is `trusted` by choosing `Trust Notebook` command found in `View` - `Activate Command Palette` menu. Typing in the first letters (i.e. \"tr\") should give you the command.\n",
    "</div>"
   ]
  },
  {
   "cell_type": "markdown",
   "metadata": {},
   "source": [
    "Load the necessary packages."
   ]
  },
  {
   "cell_type": "code",
   "execution_count": null,
   "metadata": {},
   "outputs": [],
   "source": [
    "using Cropbox"
   ]
  },
  {
   "cell_type": "code",
   "execution_count": null,
   "metadata": {
    "tags": []
   },
   "outputs": [],
   "source": [
    "using DataFrames\n",
    "using CSV"
   ]
  },
  {
   "cell_type": "code",
   "execution_count": null,
   "metadata": {},
   "outputs": [],
   "source": [
    "Cropbox.Interact.WebIO.setup(:ijulia)"
   ]
  },
  {
   "cell_type": "markdown",
   "metadata": {},
   "source": [
    "We will use the corn weather file from **L04-Phenology** for the daily temperature in the model's input variables."
   ]
  },
  {
   "cell_type": "code",
   "execution_count": null,
   "metadata": {
    "tags": []
   },
   "outputs": [],
   "source": [
    "corn_weather = CSV.read(\"corn_weather.csv\", DataFrame) |> unitfy"
   ]
  },
  {
   "cell_type": "markdown",
   "metadata": {},
   "source": [
    "### Homework questions: \n",
    "1. Let's create a mix-in system for loading up temperature variable from an external data source. Please fill in the missing codes in the code cell below."
   ]
  },
  {
   "cell_type": "code",
   "execution_count": null,
   "metadata": {
    "tags": []
   },
   "outputs": [],
   "source": [
    "@system Temperature begin\n",
    "    calendar(context)             ~      ::Calendar\n",
    "    t(calendar.date): date        ~ track::date\n",
    "\n",
    "    data                          ~ #= .. =#\n",
    "    Ta:                temperature ~ #= .. =#\n",
    "end"
   ]
  },
  {
   "cell_type": "markdown",
   "metadata": {},
   "source": [
    "This is the model that depicts the phenological changes in the growth of cabbage."
   ]
  },
  {
   "cell_type": "code",
   "execution_count": null,
   "metadata": {
    "tags": []
   },
   "outputs": [],
   "source": [
    "@system Phenology(Temperature, Controller) begin\n",
    "\n",
    "    \"plant density per m2\"\n",
    "    plantDensity ~ preserve(parameter, u\"m^-2\")\n",
    "\n",
    "    \"initial leaf number, default\"\n",
    "    initialLeafNumber ~ preserve(parameter)\n",
    "\n",
    "    \"days for root adaptation after transplanting\"\n",
    "    daysRoot ~ preserve(parameter, u\"d\")\n",
    "\n",
    "    dap(context.clock.time) ~ track(u\"d\")\n",
    "    \n",
    "    # parameters for leaf number increasing\n",
    "    Rxleaf => 1.838 ~ preserve(parameter, u\"d^-1\")\n",
    "    Tnleaf => 0     ~ preserve(parameter, u\"°C\")\n",
    "    Txleaf => 34.7  ~ preserve(parameter, u\"°C\")\n",
    "    Toleaf => 20.57 ~ preserve(parameter, u\"°C\")\n",
    "\n",
    "    \"requirement sum of temp_rate for flowering\"\n",
    "    satTemp => 54 ~ preserve(parameter)\n",
    "\n",
    "    \"requirement sum of temp_rate for harvesting\"\n",
    "    satRep => 150 ~ preserve(parameter)\n",
    "\n",
    "    \"max. temp for veg. and rep, growth\"\n",
    "    optTemp => 10 ~ preserve(parameter, u\"°C\")\n",
    "\n",
    "    \"sum of ver_rate for flowering\"\n",
    "    satVer => 55  ~ preserve(parameter)\n",
    "\n",
    "    \"opt. temp. for vernalization\"\n",
    "    optVer => 7.0 ~ preserve(parameter, u\"°C\")\n",
    "\n",
    "    midRateLN(Ta, Tn = Tnleaf, Tx = Txleaf, To = Toleaf, Rx = Rxleaf) => begin\n",
    "        T = clamp(Ta, 0u\"°C\", Tx)\n",
    "        Rx * ((Tx - T) / (Tx - To)) * ((T - Tn) / (To - Tn))^((To - Tn) / (Tx - To))\n",
    "    end ~ track(u\"d^-1\")\n",
    "\n",
    "    earlyRateLN(midRateLN) => begin\n",
    "        0.5midRateLN\n",
    "    end ~ track(u\"d^-1\")\n",
    "\n",
    "    rateVer(nounit(Ta, u\"°C\"), nounit(optVer, u\"°C\")) => begin\n",
    "        T = max(Ta, 0.01)\n",
    "        exp(-log(T / optVer)^4)\n",
    "    end ~ track(u\"d^-1\")\n",
    "\n",
    "    sumVer(rateVer) ~ accumulate\n",
    "\n",
    "    verdvs(sumVer, satVer) => begin\n",
    "        sumVer / satVer\n",
    "    end ~ track(max = 1)\n",
    "\n",
    "    rateTemp(nounit(Ta, u\"°C\"), nounit(optTemp, u\"°C\")) => begin\n",
    "        T = max(Ta, 0.01)\n",
    "        exp(-log(T / optTemp)^2)\n",
    "    end ~ track(u\"d^-1\")\n",
    "\n",
    "    sumTemp(rateTemp) ~ accumulate\n",
    "\n",
    "    tempdvs(sumTemp, satTemp, satRep) => begin\n",
    "        if sumTemp >= satRep\n",
    "            2\n",
    "        elseif sumTemp > satTemp\n",
    "            1 + (sumTemp - satTemp) / (satRep - satTemp)\n",
    "        else\n",
    "            sumTemp / satTemp\n",
    "        end\n",
    "    end ~ track\n",
    "\n",
    "    leafRate(dap, daysRoot, earlyRateLN, midRateLN, pLeafForm) => begin\n",
    "        if dap < daysRoot\n",
    "            earlyRateLN\n",
    "        else\n",
    "            midRateLN * pLeafForm\n",
    "        end\n",
    "    end ~ track(u\"d^-1\")\n",
    "\n",
    "    leafAcc(leafRate) ~ accumulate(init = initialLeafNumber)\n",
    "\n",
    "    LN(leafAcc): leafNumber ~ track::int(round = :floor)\n",
    "\n",
    "    dvs(tempdvs, verdvs) => begin\n",
    "        tempdvs * verdvs\n",
    "    end ~ track\n",
    "\n",
    "    # from facade.py\n",
    "    bolting(dvs) => begin\n",
    "        !(dvs < 1)\n",
    "    end ~ flag\n",
    "\n",
    "    initial_pLeafForm ~ preserve(parameter)\n",
    "\n",
    "    \"suppression parameter for leaf formation rate\"\n",
    "    pLeafForm(initial_pLeafForm) ~ track\n",
    "end"
   ]
  },
  {
   "cell_type": "markdown",
   "metadata": {},
   "source": [
    "2. Please create a configuration that uses the weather data from `July 1st 2002` to `July 30th 2002`."
   ]
  },
  {
   "cell_type": "code",
   "execution_count": null,
   "metadata": {
    "tags": []
   },
   "outputs": [],
   "source": [
    "phenology_config_summer = @config(\n",
    "    Phenology => (;\n",
    "        plantDensity      = 3.8,\n",
    "        initialLeafNumber = 6,\n",
    "        daysRoot          = 10,\n",
    "        initial_pLeafForm = 0.69,\n",
    "        \n",
    "        optTemp = 10,\n",
    "        optVer = 7,\n",
    "        Rxleaf = 1.838,\n",
    "        Tnleaf = 0,\n",
    "        Txleaf = 34,\n",
    "        Toleaf = 20,\n",
    "    ),\n",
    "    #= .. =#\n",
    ")"
   ]
  },
  {
   "cell_type": "markdown",
   "metadata": {
    "tags": []
   },
   "source": [
    "3. Please create a configuration that uses the weather data from `Aug. 31st 2002` to `Sep 29th 2002`."
   ]
  },
  {
   "cell_type": "code",
   "execution_count": null,
   "metadata": {},
   "outputs": [],
   "source": [
    "phenology_config_autumn = @config(\n",
    "    Phenology => (;\n",
    "        plantDensity      = 3.8,\n",
    "        initialLeafNumber = 6,\n",
    "        daysRoot          = 10,\n",
    "        initial_pLeafForm = 0.69,\n",
    "        \n",
    "        optTemp = 10,\n",
    "        optVer = 7,\n",
    "        Rxleaf = 1.838,\n",
    "        Tnleaf = 0,\n",
    "        Txleaf = 34,\n",
    "        Toleaf = 20,\n",
    "    ),\n",
    "    #= .. =#\n",
    ")"
   ]
  },
  {
   "cell_type": "markdown",
   "metadata": {},
   "source": [
    "4. Please compare the simulation results of leaf number for the summer and autumn configurations."
   ]
  },
  {
   "cell_type": "code",
   "execution_count": null,
   "metadata": {
    "tags": []
   },
   "outputs": [],
   "source": []
  },
  {
   "cell_type": "code",
   "execution_count": null,
   "metadata": {
    "tags": []
   },
   "outputs": [],
   "source": []
  },
  {
   "cell_type": "markdown",
   "metadata": {},
   "source": [
    "5. Do the results match your expectations? Why are there differences in leaf number between the two seasons? You can discuss this in terms of plant physiology, parameter settings, crop characteristics, etc."
   ]
  },
  {
   "cell_type": "markdown",
   "metadata": {},
   "source": [
    "**Please upload your answer to NTU Cool system. Accepted format: .docx .pdf .ipynb .jl .zip .tar.gz**"
   ]
  }
 ],
 "metadata": {
  "@webio": {
   "lastCommId": "aede642d-4d60-473e-aa81-472909039fd5",
   "lastKernelId": "0e426308-588b-470d-a3b2-427e1d5880ab"
  },
  "kernelspec": {
   "display_name": "Julia 1.10.4",
   "language": "julia",
   "name": "julia-1.10"
  },
  "language_info": {
   "file_extension": ".jl",
   "mimetype": "application/julia",
   "name": "julia",
   "version": "1.10.4"
  }
 },
 "nbformat": 4,
 "nbformat_minor": 4
}
